{
 "cells": [
  {
   "cell_type": "code",
   "execution_count": 46,
   "id": "0e8330e9",
   "metadata": {},
   "outputs": [],
   "source": [
    "#functions to build: \n",
    "\n",
    "#board > from IPython.display import clear_output\n",
    "\n",
    "#def display_board: \n",
    "\n",
    "#def select_marker: player_one,player_two = select_marker()\n",
    "\n",
    "#def select_position: position = select_position()\n",
    "\n",
    "#def update_and_display_board(board,current_marker,position): \n",
    "\n",
    "#def check_win(board): or\\\n",
    "\n",
    "#def check_tie(board):\n",
    "\n",
    "#def switch_player: global current_player current_player = 'Player_1'\n",
    "\n",
    "#def gameon_choice\n",
    "\n",
    "\n",
    "#def play_game():\n",
    "    #print(' \\nHi, Let us play a game of Tic Tac Toe\\n')\n",
    "    # Initialize the board\n",
    "    # Display the current board\n",
    "    # Marker Select\n",
    "    # Initialize the current player\n",
    "    # game_on = True \n",
    "    # while game_on:\n",
    "        # Notify which player's turn it is\n",
    "        #Ask the current player to select a position\n",
    "        #Update and display the board\n",
    "        #Check for win or tie\n",
    "    #Switch the current player"
   ]
  },
  {
   "cell_type": "code",
   "execution_count": 64,
   "id": "a05eef88",
   "metadata": {},
   "outputs": [],
   "source": [
    "from IPython.display import clear_output\n",
    "\n",
    "board =['0','1','2','3','4','5','6','7','8','9']"
   ]
  },
  {
   "cell_type": "code",
   "execution_count": 65,
   "id": "02e82b2e",
   "metadata": {},
   "outputs": [],
   "source": [
    "def display_board(board):\n",
    "    clear_output()\n",
    "    for start in [1,4,7]:\n",
    "        row = board[start:start+3]\n",
    "        row_str = ' | '.join(row)\n",
    "        print(row_str)\n",
    "        \n",
    "        if start !=7:\n",
    "            print('-' *len(row_str))"
   ]
  },
  {
   "cell_type": "code",
   "execution_count": 66,
   "id": "0add2ead",
   "metadata": {},
   "outputs": [
    {
     "name": "stdout",
     "output_type": "stream",
     "text": [
      "1 | 2 | 3\n",
      "---------\n",
      "4 | 5 | 6\n",
      "---------\n",
      "7 | 8 | 9\n"
     ]
    }
   ],
   "source": [
    "display_board(board)"
   ]
  },
  {
   "cell_type": "code",
   "execution_count": 67,
   "id": "4f958714",
   "metadata": {},
   "outputs": [],
   "source": [
    "def select_marker():\n",
    "    \n",
    "    player1_marker = 'none' \n",
    "    \n",
    "    while player1_marker not in ['X','O']:\n",
    "        \n",
    "        player1_marker = input('\\nPlease enter a marker between X & O: ').upper()\n",
    "        \n",
    "        if player1_marker not in ['X','O']:\n",
    "            \n",
    "            clear_output()\n",
    "            \n",
    "            print ( '\\nMakrer selectd is out of bounds, please select X or O')\n",
    "            \n",
    "    if player1_marker == 'X':\n",
    "        \n",
    "        return ('X','O')\n",
    "    else:\n",
    "        return ('O','X')"
   ]
  },
  {
   "cell_type": "code",
   "execution_count": 68,
   "id": "a8ffcec2",
   "metadata": {},
   "outputs": [
    {
     "name": "stdout",
     "output_type": "stream",
     "text": [
      "\n",
      "Please enter a marker between X & O: x\n"
     ]
    },
    {
     "data": {
      "text/plain": [
       "('X', 'O')"
      ]
     },
     "execution_count": 68,
     "metadata": {},
     "output_type": "execute_result"
    }
   ],
   "source": [
    "select_marker()"
   ]
  },
  {
   "cell_type": "code",
   "execution_count": 69,
   "id": "5cbf880a",
   "metadata": {},
   "outputs": [
    {
     "name": "stdout",
     "output_type": "stream",
     "text": [
      "\n",
      "Please select a position from 1-9: 9\n"
     ]
    }
   ],
   "source": [
    "def select_position():\n",
    "    \n",
    "    position = 'set'\n",
    "    \n",
    "    while position not in ['1','2','3','4','5','6','7','8','9']:\n",
    "        \n",
    "        position = input('\\nPlease select a position from 1-9: ')\n",
    "        \n",
    "        if position not in ['1','2','3','4','5','6','7','8','9']:\n",
    "            \n",
    "            print('\\nPlease enter a position between 1-9')\n",
    "            \n",
    "        else: \n",
    "            \n",
    "            position_index = int(position) \n",
    "            \n",
    "            if board[position_index] == 'X' or board[position_index] == 'O':\n",
    "                \n",
    "                clear_output()\n",
    "            \n",
    "                print ('\\nThis position is already taken, please enter a new position')\n",
    "            \n",
    "                position = 'set'\n",
    "        \n",
    "            else:\n",
    "                \n",
    "                return position_index\n",
    "                \n",
    "position = select_position()"
   ]
  },
  {
   "cell_type": "code",
   "execution_count": 70,
   "id": "719e21f7",
   "metadata": {},
   "outputs": [],
   "source": [
    "def update_and_display_board(board,current_marker,position): \n",
    "    \n",
    "    board[position] = current_marker \n",
    "    \n",
    "    display_board(board)"
   ]
  },
  {
   "cell_type": "code",
   "execution_count": 71,
   "id": "5c19bc2c",
   "metadata": {},
   "outputs": [],
   "source": [
    "def check_win(board):\n",
    "    \n",
    "    if (board[1]==board[2]==board[3]) or\\\n",
    "       (board[4]==board[5]==board[6]) or\\\n",
    "       (board[7]==board[8]==board[9]):\n",
    "        return True\n",
    "    \n",
    "    if (board[1]==board[4]==board[7]) or\\\n",
    "       (board[2]==board[5]==board[8]) or\\\n",
    "       (board[3]==board[6]==board[9]):\n",
    "        return True \n",
    "        \n",
    "    if (board[1]==board[5]==board[9]) or\\\n",
    "       (board[3]==board[5]==board[7]):\n",
    "        return True\n",
    "    \n",
    "    return False"
   ]
  },
  {
   "cell_type": "code",
   "execution_count": 72,
   "id": "4dc0f77e",
   "metadata": {},
   "outputs": [],
   "source": [
    "def check_tie(board):\n",
    "    \n",
    "    for spot in board: \n",
    "        if spot in ['1','2','3','4','5','6','7','8','9']:\n",
    "            return False\n",
    "    return True            "
   ]
  },
  {
   "cell_type": "code",
   "execution_count": 73,
   "id": "9d6c5207",
   "metadata": {},
   "outputs": [],
   "source": [
    "def switch_player(current_player):\n",
    "    \n",
    "    return 'Player 2' if current_player == 'Player 1' else 'Player 1'"
   ]
  },
  {
   "cell_type": "code",
   "execution_count": 74,
   "id": "6195c1b2",
   "metadata": {},
   "outputs": [],
   "source": [
    "def gameon_choice():\n",
    "    \n",
    "    choice = 'wrong'\n",
    "    \n",
    "    while choice not in ['Y','N']:\n",
    "        \n",
    "        choice = input('\\nWould you like to restart Y or N: ').upper()\n",
    "        \n",
    "        if choice not in ['Y','N']:\n",
    "            \n",
    "            print('\\nInvalid input please selecf either Y or N')\n",
    "            \n",
    "        if choice =='Y':\n",
    "            \n",
    "            return True\n",
    "        else:\n",
    "            return False"
   ]
  },
  {
   "cell_type": "code",
   "execution_count": 81,
   "id": "922d7194",
   "metadata": {},
   "outputs": [
    {
     "name": "stdout",
     "output_type": "stream",
     "text": [
      "\n",
      "Thanks for playing!\n"
     ]
    }
   ],
   "source": [
    "def play_game(): \n",
    "    \n",
    "    print(' \\nHi, Let us play a game of Tic Tac Toe\\n')\n",
    "    \n",
    "    board =['0','1','2','3','4','5','6','7','8','9']\n",
    "    \n",
    "    display_board(board)\n",
    "    \n",
    "    player1_marker, player2_marker = select_marker()\n",
    "    print(f'\\nPlayer 1 Marker is {player1_marker} \\nPlayer 2 marker is {player2_marker}')\n",
    "    \n",
    "    current_player = 'Player 1'\n",
    "    \n",
    "    game_on = True\n",
    "    \n",
    "    while game_on:\n",
    "                \n",
    "        print(f'\\nIt is {current_player} turn.')\n",
    "        \n",
    "        position = select_position()\n",
    "        \n",
    "        clear_output()\n",
    "        \n",
    "        current_marker = player1_marker if current_player == 'Player 1' else player2_marker\n",
    "            \n",
    "        update_and_display_board(board,current_marker,position)\n",
    "        \n",
    "        if check_win(board):\n",
    "            print(f'\\n{current_player} Wins')\n",
    "            game_on = gameon_choice()\n",
    "            \n",
    "            if game_on:\n",
    "                board =['0','1','2','3','4','5','6','7','8','9']\n",
    "                display_board(board)\n",
    "                current_player = 'Player 1'\n",
    "    \n",
    "        elif check_tie(board):\n",
    "            print('\\nThe game is drawn')\n",
    "            game_on = gameon_choice()\n",
    "            if game_on:\n",
    "                board =['0','1','2','3','4','5','6','7','8','9']\n",
    "                display_board(board)\n",
    "                current_player = 'Player 1'\n",
    "    \n",
    "        else:\n",
    "            current_player = switch_player(current_player)\n",
    "\n",
    "print(\"\\nThanks for playing!\")"
   ]
  },
  {
   "cell_type": "code",
   "execution_count": 80,
   "id": "3aaf21c9",
   "metadata": {},
   "outputs": [
    {
     "name": "stdout",
     "output_type": "stream",
     "text": [
      "1 | 2 | X\n",
      "---------\n",
      "4 | O | X\n",
      "---------\n",
      "7 | O | X\n",
      "\n",
      "Player 1 wins the game\n",
      "\n",
      "Would you like to restart Y or N: n\n"
     ]
    }
   ],
   "source": [
    "play_game()"
   ]
  },
  {
   "cell_type": "code",
   "execution_count": null,
   "id": "77d393b2",
   "metadata": {},
   "outputs": [],
   "source": []
  }
 ],
 "metadata": {
  "kernelspec": {
   "display_name": "Python 3 (ipykernel)",
   "language": "python",
   "name": "python3"
  },
  "language_info": {
   "codemirror_mode": {
    "name": "ipython",
    "version": 3
   },
   "file_extension": ".py",
   "mimetype": "text/x-python",
   "name": "python",
   "nbconvert_exporter": "python",
   "pygments_lexer": "ipython3",
   "version": "3.11.3"
  }
 },
 "nbformat": 4,
 "nbformat_minor": 5
}
